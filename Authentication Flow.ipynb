{
 "cells": [
  {
   "cell_type": "markdown",
   "metadata": {},
   "source": [
    "# Function 1: Check Images in folder for QR Codes and EAN13 or ITF and EAN13"
   ]
  },
  {
   "cell_type": "code",
   "execution_count": null,
   "metadata": {},
   "outputs": [],
   "source": [
    "from PIL import Image\n",
    "from pyzbar.pyzbar import decode\n",
    "import os\n",
    "\n",
    "def QR_Checker(directory):\n",
    "    qr_count = 0\n",
    "    qr_codes = []\n",
    "    ean_count = 0\n",
    "    ean_codes = []\n",
    "    \n",
    "    for i in os.listdir(directory):\n",
    "        pic_dir = (directory + i)\n",
    "        img = Image.open(pic_dir)\n",
    "        #exploring greyscale vs normal images\n",
    "        #img = img.convert(mode = \"1\", dither = Image.NONE)\n",
    "        code = decode(img)\n",
    "            \n",
    "        for barcode in code:\n",
    "            if barcode.type == 'QRCODE':\n",
    "                qr_code = barcode.data.decode('utf-8')\n",
    "                qr_codes.append(qr_code)\n",
    "                qr_count += 1\n",
    "\n",
    "            elif barcode.type == 'EAN13':\n",
    "                ean_code = barcode.data.decode('utf-8')\n",
    "                ean_codes.append(ean_code)\n",
    "                ean_count += 1\n",
    "    \n",
    "    return qr_count, qr_codes, ean_count, ean_codes"
   ]
  },
  {
   "cell_type": "code",
   "execution_count": null,
   "metadata": {},
   "outputs": [],
   "source": [
    "def ITF_Checker(directory):\n",
    "    itf_count = 0\n",
    "    itf_codes = []\n",
    "    ean_count = 0\n",
    "    ean_codes = []\n",
    "    \n",
    "    for i in os.listdir(directory):\n",
    "        pic_dir = (directory + i)\n",
    "        img = Image.open(pic_dir)\n",
    "        #explore greyscale vs normal images\n",
    "        #img = img.convert(mode = \"1\", dither = Image.NONE)\n",
    "        code = decode(img)\n",
    "            \n",
    "        for barcode in code:\n",
    "            if barcode.type == 'I25':\n",
    "                itf_code = barcode.data.decode('utf-8')\n",
    "                itf_codes.append(itf_code)\n",
    "                itf_count += 1\n",
    "\n",
    "            elif barcode.type == 'EAN13':\n",
    "                ean_code = barcode.data.decode('utf-8')\n",
    "                ean_codes.append(ean_code)\n",
    "                ean_count += 1\n",
    "    \n",
    "    return itf_count, itf_codes, ean_count, ean_codes"
   ]
  },
  {
   "cell_type": "markdown",
   "metadata": {},
   "source": [
    "# Function 2: Comparing decoded QR Codes (should be different for all 3) or ITF Codes (should be the same for both)"
   ]
  },
  {
   "cell_type": "code",
   "execution_count": null,
   "metadata": {},
   "outputs": [],
   "source": [
    "import os\n",
    "from difflib import SequenceMatcher\n",
    "\n",
    "def similarity(a, b):\n",
    "    return SequenceMatcher(None, a, b).ratio()\n",
    "\n",
    "def QR_Test(lst):\n",
    "    test = {\"check 1\": [],\n",
    "           \"check 2\": [],\n",
    "           \"check 3\": [],\n",
    "           \"check 4\": []}\n",
    "    \n",
    "    verdict = 'Passed QR Check'\n",
    "    \n",
    "    if len(lst) != 3:\n",
    "        verdict = 'Error'\n",
    "        return test, verdict\n",
    "    \n",
    "    qr_1 = (lst[0].split('/'))[-1]\n",
    "    qr_2 = (lst[1].split('/'))[-1]\n",
    "    qr_3 = (lst[2].split('/'))[-1]\n",
    "    \n",
    "    \n",
    "    #Check level 1 (Correct Nike Website)\n",
    "    front = 'HTTPS://QR.NIKE.COM/'\n",
    "    count = 0\n",
    "    while count < len(lst):\n",
    "        if not front in lst[count]:\n",
    "            status = 'Fail: QR ' + str(count+1) + ' is not the proper Nike Website' \n",
    "            test[\"check 1\"].append(status)\n",
    "            count += 1\n",
    "        else:\n",
    "            count += 1\n",
    "     \n",
    "    if (len(test[\"check 1\"]) == 0):\n",
    "        test[\"check 1\"].append('Pass: QR Codes lead to proper Nike Website')\n",
    "    \n",
    "    \n",
    "    #Check level 2 (Correct number of values)\n",
    "    if len(qr_1) == 13:\n",
    "        if len(qr_2) == 13:\n",
    "            if len(qr_3) == 13:\n",
    "                test[\"check 2\"].append('Pass: Correct number of values in QR code')\n",
    "            else:\n",
    "                test[\"check 2\"].append('Fail: QR 3 has incorrect number of values')\n",
    "        else:\n",
    "            test[\"check 2\"].append('Fail: QR 2 has incorrect number of values')\n",
    "    else:\n",
    "        test[\"check 2\"].append('Fail: QR 1 has incorrect number of values')\n",
    "    \n",
    "    \n",
    "    #Check level 3\n",
    "    if (qr_1 == qr_2):\n",
    "        test[\"check 3\"].append('Fail: QR Code 1 and QR Code 2 are the same')\n",
    "    elif (qr_1 == qr_3):\n",
    "        test[\"check 3\"].append('Fail: QR Code 1 and QR Code 3 are the same')\n",
    "    elif (qr_2 == qr_3):\n",
    "        test[\"check 3\"].append('Fail: QR Code 2 and QR Code 3 are the same')\n",
    "    else:\n",
    "        test[\"check 3\"].append('Pass: Unique QR Code')\n",
    "        \n",
    "        \n",
    "    #Check level 4\n",
    "    if ((round((similarity(qr_1,qr_2)*100),2)) > 50):\n",
    "        test[\"check 4\"].append('Fail: >50% similarity in QR 1 and QR 2')\n",
    "        \n",
    "    elif ((round((similarity(qr_1,qr_3)*100),2)) > 50):\n",
    "        test[\"check 4\"].append('Fail: >50% similarity in QR 1 and QR 3')\n",
    "    \n",
    "    elif ((round((similarity(qr_2,qr_3)*100),2)) > 50):\n",
    "        test[\"check 4\"].append('Fail: >50% similarity in QR 2 and QR 3')\n",
    "        \n",
    "    else:\n",
    "        test[\"check 4\"].append('Pass: <30% similarity of QR Code')\n",
    "    \n",
    "    for i in test.values():\n",
    "        if 'Fail' in i[0]:\n",
    "            verdict = 'Failed QR Check'\n",
    "    \n",
    "    for i in test.values():\n",
    "        if 'Fail' in i[0]:\n",
    "            verdict = 'Failed QR Check'\n",
    "            \n",
    "    return test, verdict"
   ]
  },
  {
   "cell_type": "code",
   "execution_count": null,
   "metadata": {},
   "outputs": [],
   "source": [
    "def ITF_Test(lst):\n",
    "    test = {\"check 1\": [],\n",
    "           \"check 2\": []}\n",
    "    \n",
    "    verdict = 'Passed ITF Check'\n",
    "    \n",
    "    #Check 1: Length of decoded ITF should be 10\n",
    "    if len(lst[0]) == 10:\n",
    "        if len(lst[1]) == 10:\n",
    "            test[\"check 1\"].append(\"Pass: ITF Codes are the correct number of characters\")\n",
    "        else:\n",
    "            test[\"check 1\"].append(\"Fail: ITF 2 is not the correct number of characters\")\n",
    "    else:\n",
    "        test[\"check 1\"].append(\"Fail: ITF 1 is not the correct number of characters\")\n",
    "        \n",
    "    #Check 2: Decoded ITF should be the same\n",
    "    if lst[0] == lst[1]:\n",
    "        test[\"check 2\"].append(\"Pass: ITF Codes are the same\")\n",
    "    else:\n",
    "        test[\"check 2\"].append(\"Fail: ITF Codes are not the same\")\n",
    "        \n",
    "    for i in test.values():\n",
    "        if 'Fail' in i[0]:\n",
    "            verdict = 'Failed QR Check'    \n",
    "        \n",
    "    return test, verdict"
   ]
  },
  {
   "cell_type": "markdown",
   "metadata": {},
   "source": [
    "# Function 3: OCR (Look for decoded QR code on the size tag)"
   ]
  },
  {
   "cell_type": "code",
   "execution_count": null,
   "metadata": {},
   "outputs": [],
   "source": [
    "import pytesseract as tess\n",
    "from PIL import Image\n",
    "import os\n",
    "tess.pytesseract.tesseract_cmd = r'C:\\Program Files\\Tesseract-OCR\\tesseract.exe'\n",
    "\n",
    "#This function splits up words picked out from OCR into a list\n",
    "def Image_Cleaner(path):\n",
    "    img = Image.open(path)\n",
    "    greyscale_img = img.convert(mode = \"1\", dither = Image.NONE)\n",
    "    text = tess.image_to_string(img)\n",
    "    text = text.replace(' ', '\\n')\n",
    "    text = text.split('\\n')\n",
    "    \n",
    "    return text\n",
    "\n",
    "#input image path and dictionary (keys: SKU, decoded QR Codes, UPC) of details to find in the OCR-ed images\n",
    "def Details_Finder(img, dets):\n",
    "    text = Image_Cleaner(img)\n",
    "    \n",
    "    SKU = None\n",
    "    UPC = None\n",
    "    QR = None\n",
    "    \n",
    "    for i in text:\n",
    "        for j in dets[\"QR\"]:\n",
    "            if i == dets[\"SKU\"]:\n",
    "                SKU = i\n",
    "            elif i == dets[\"UPC\"]:\n",
    "                UPC = i\n",
    "            elif i == j:\n",
    "                QR = i\n",
    "    \n",
    "    return QR, UPC, SKU"
   ]
  },
  {
   "cell_type": "markdown",
   "metadata": {},
   "source": [
    "# To run the 4 programs:\n",
    "## 1) Input file path (10 Airtable images)"
   ]
  },
  {
   "cell_type": "code",
   "execution_count": null,
   "metadata": {},
   "outputs": [],
   "source": [
    "path = r\"C:\\Users\\hakim\\Documents\\Novelship Work\\Images\\For Testing\\Test (QR)\\\\\""
   ]
  },
  {
   "cell_type": "markdown",
   "metadata": {},
   "source": [
    "## 2) Run following code to iterate through folder and check number of QR Codes, EAN detected"
   ]
  },
  {
   "cell_type": "markdown",
   "metadata": {},
   "source": [
    "### 2.1 Actual output"
   ]
  },
  {
   "cell_type": "code",
   "execution_count": null,
   "metadata": {},
   "outputs": [],
   "source": [
    "print(QR_Checker(path))"
   ]
  },
  {
   "cell_type": "markdown",
   "metadata": {},
   "source": [
    "### 2.2 Cleaned output"
   ]
  },
  {
   "cell_type": "code",
   "execution_count": null,
   "metadata": {},
   "outputs": [],
   "source": [
    "qr_count, qr_codes, ean_count, ean_codes = QR_Checker(path)\n",
    "print('Number of QR Codes detected: ' + str(qr_count))\n",
    "print('Number of EAN detected: ' + str(ean_count))"
   ]
  },
  {
   "cell_type": "markdown",
   "metadata": {},
   "source": [
    "## 3) Check QR Codes and EAN detected (3 and 1 respectively)"
   ]
  },
  {
   "cell_type": "markdown",
   "metadata": {},
   "source": [
    "### 3.1 Actual view"
   ]
  },
  {
   "cell_type": "code",
   "execution_count": null,
   "metadata": {},
   "outputs": [],
   "source": [
    "print(qr_codes)\n",
    "print(ean_codes)"
   ]
  },
  {
   "cell_type": "markdown",
   "metadata": {},
   "source": [
    "### 3.2 Cleaned view"
   ]
  },
  {
   "cell_type": "code",
   "execution_count": null,
   "metadata": {},
   "outputs": [],
   "source": [
    "for i in qr_codes:\n",
    "    print('QR Code Detected: ' + i)\n",
    "for j in ean_codes:\n",
    "    print('EAN Detected: ' + j)"
   ]
  },
  {
   "cell_type": "markdown",
   "metadata": {},
   "source": [
    "## 4) Run following code to compare decoded QR Codes. 4 Levels of checks"
   ]
  },
  {
   "cell_type": "markdown",
   "metadata": {},
   "source": [
    "### 4.1 Actual output"
   ]
  },
  {
   "cell_type": "code",
   "execution_count": null,
   "metadata": {},
   "outputs": [],
   "source": [
    "test, verdict = QR_Test(qr_codes)\n",
    "print(test)\n",
    "print(verdict)"
   ]
  },
  {
   "cell_type": "markdown",
   "metadata": {},
   "source": [
    "### 4.2 Cleaned output"
   ]
  },
  {
   "cell_type": "code",
   "execution_count": null,
   "metadata": {},
   "outputs": [],
   "source": [
    "test, verdict = QR_Test(qr_codes)\n",
    "\n",
    "for i in test.values():\n",
    "    print(i[0])\n",
    "print(verdict)"
   ]
  },
  {
   "cell_type": "markdown",
   "metadata": {},
   "source": [
    "## 5) Input images to be OCR-ed and details to be checked for (Prior to this crop and rotate images according to grid)"
   ]
  },
  {
   "cell_type": "code",
   "execution_count": null,
   "metadata": {},
   "outputs": [],
   "source": [
    "SKU = 'AQ3692-001'\n",
    "UPC = '00193654541781'\n",
    "QRL = '000K0JWVF6RQ8'\n",
    "QRR = '019FSCWS2E83T'\n",
    "\n",
    "dets = {\"SKU\": SKU, \"UPC\": UPC, \"QR\": [QRL, QRR]}\n",
    "\n",
    "path = r\"C:\\Users\\hakim\\Documents\\Novelship Work\\Images\\For Testing\\Test (OCR)\\1.jpg\""
   ]
  },
  {
   "cell_type": "code",
   "execution_count": null,
   "metadata": {},
   "outputs": [],
   "source": [
    "QR, UPC, SKU = Details_Finder(path, dets)\n",
    "print('QR numbers detected: ' + QR)\n",
    "#print('UPC numbers detected: ' + UPC)\n",
    "#print('SKU numbers detected: ' + SKU)"
   ]
  },
  {
   "cell_type": "code",
   "execution_count": null,
   "metadata": {},
   "outputs": [],
   "source": [
    "img = Image.open(path)\n",
    "greyscale_img = img.convert(mode = \"1\", dither = Image.NONE)\n",
    "text = tess.image_to_string(img)"
   ]
  },
  {
   "cell_type": "code",
   "execution_count": null,
   "metadata": {},
   "outputs": [],
   "source": [
    "print(text)"
   ]
  }
 ],
 "metadata": {
  "kernelspec": {
   "display_name": "Python 3",
   "language": "python",
   "name": "python3"
  },
  "language_info": {
   "codemirror_mode": {
    "name": "ipython",
    "version": 3
   },
   "file_extension": ".py",
   "mimetype": "text/x-python",
   "name": "python",
   "nbconvert_exporter": "python",
   "pygments_lexer": "ipython3",
   "version": "3.7.6"
  }
 },
 "nbformat": 4,
 "nbformat_minor": 4
}
