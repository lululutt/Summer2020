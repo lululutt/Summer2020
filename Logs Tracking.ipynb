{
 "cells": [
  {
   "cell_type": "code",
   "execution_count": null,
   "metadata": {
    "scrolled": true
   },
   "outputs": [],
   "source": [
    "import time\n",
    "from datetime import datetime, date"
   ]
  },
  {
   "cell_type": "markdown",
   "metadata": {},
   "source": [
    "## Function to convert time string to seconds -> Later used to find time difference"
   ]
  },
  {
   "cell_type": "code",
   "execution_count": null,
   "metadata": {
    "scrolled": true
   },
   "outputs": [],
   "source": [
    "def Time_Converter(time_string):\n",
    "    parts = time_string.split(':')\n",
    "    hours = int(parts[0]) \n",
    "    minutes = int(parts[1])\n",
    "    seconds = int(parts[2])\n",
    "    total_seconds = ((hours) * 60 * 60) + ((minutes) * 60) + seconds\n",
    "    \n",
    "    return total_seconds"
   ]
  },
  {
   "cell_type": "code",
   "execution_count": null,
   "metadata": {
    "scrolled": true
   },
   "outputs": [],
   "source": [
    "print(Time_Converter('04:00:58'))"
   ]
  },
  {
   "cell_type": "markdown",
   "metadata": {},
   "source": [
    "# Main Function 1: Return number of items processed in Singapore, Japan"
   ]
  },
  {
   "cell_type": "code",
   "execution_count": 1,
   "metadata": {},
   "outputs": [],
   "source": [
    "def Inbound_Counter(path):  \n",
    "    f = open(path,'r')\n",
    "    main_inbound = f.readlines()\n",
    "    f.close()\n",
    "    \n",
    "    SG_Inbound = []\n",
    "    JP_Inbound = []\n",
    "\n",
    "    for i in main_inbound:\n",
    "        if len(i) > 5:\n",
    "            status = (i.split(';')[5])\n",
    "            if 'SG' in status:\n",
    "                SG_Inbound.append(i)\n",
    "            elif 'JP' in status:\n",
    "                JP_Inbound.append(i)\n",
    "\n",
    "    SG_Orders = []\n",
    "    JP_Orders = []\n",
    "\n",
    "    for j in SG_Inbound:\n",
    "        status = (j.split(';')[5])\n",
    "        if ('UPDATE' in status) and ('SUCCESS' in status):\n",
    "            SG_Order = status[12:26].replace('_', '/')\n",
    "            SG_Orders.append(SG_Order)\n",
    "\n",
    "    for k in JP_Inbound:\n",
    "        status = (k.split(';')[5])\n",
    "        if ('UPDATE' in status) and ('SUCCESS' in status):\n",
    "            JP_Order = status[12:26].replace('_', '/')\n",
    "            JP_Orders.append(JP_Order)\n",
    "\n",
    "    SG_Orders = list(dict.fromkeys(SG_Orders))\n",
    "    JP_Orders = list(dict.fromkeys(JP_Orders))\n",
    "    \n",
    "    return len(SG_Orders), len(JP_Orders)"
   ]
  },
  {
   "cell_type": "code",
   "execution_count": 4,
   "metadata": {},
   "outputs": [
    {
     "data": {
      "text/plain": [
       "(35, 0)"
      ]
     },
     "execution_count": 4,
     "metadata": {},
     "output_type": "execute_result"
    }
   ],
   "source": [
    "Inbound_Counter(r'C:\\Users\\hakim\\Documents\\Novelship Work\\Logs\\Inbound 28-8.log')"
   ]
  },
  {
   "cell_type": "markdown",
   "metadata": {},
   "source": [
    "# Main Function 2: Return delivery, inventorised, storage, returns for Singapore, Japan"
   ]
  },
  {
   "cell_type": "code",
   "execution_count": 5,
   "metadata": {},
   "outputs": [],
   "source": [
    "def Outbound_Counter(path):\n",
    "    f = open(path,'r')\n",
    "    main_outbound = f.readlines()\n",
    "    f.close()\n",
    "    \n",
    "    SG_Outbound = []\n",
    "    JP_Outbound = []\n",
    "    \n",
    "    SG_Deliv = 0\n",
    "    SG_Inv = 0\n",
    "    SG_Stor = 0\n",
    "    SG_Return = 0\n",
    "    \n",
    "    JP_Deliv = 0\n",
    "    JP_Inv = 0\n",
    "    JP_Stor = 0\n",
    "    JP_Return = 0\n",
    "\n",
    "    for i in main_outbound:\n",
    "        if len(i) > 5:\n",
    "            status = (i.split(';'))[5]\n",
    "            if 'SG' in status:\n",
    "                SG_Outbound.append(i)\n",
    "            else:\n",
    "                JP_Outbound.append(i)\n",
    "                \n",
    "    inv_status = ['1110']\n",
    "    store_status = ['1511']\n",
    "    done_photo_status = ['1210','1211','1214']\n",
    "    delivered_status = ['1812','1813','1814','1815','1816','1817','1818']  \n",
    "    \n",
    "    for i in SG_Outbound:\n",
    "        status = (i.split(';'))[5]\n",
    "        if ('status: 1812' in status) or ('status: 1813' in status) or ('status: 1814' in status) or ('status: 1815' in status) or ('status: 1816' in status) or ('status: 1817' in status) or ('status: 1818' in status):\n",
    "            SG_Deliv += 1\n",
    "        elif ('status: 1110' in status):\n",
    "            SG_Inv += 1\n",
    "        elif ('status: 1511' in status):\n",
    "            SG_Stor += 1\n",
    "        elif ('status 3910' in status) and ('updated' in status):\n",
    "            SG_Return += 1\n",
    "            \n",
    "    for i in JP_Outbound:\n",
    "        status = (i.split(';'))[5]\n",
    "        if ('status: 1812' in status) or ('status: 1813' in status) or ('status: 1814' in status) or ('status: 1815' in status) or ('status: 1816' in status) or ('status: 1817' in status) or ('status: 1818' in status):\n",
    "            JP_Deliv += 1\n",
    "        elif ('status: 1110' in status):\n",
    "            JP_Inv += 1\n",
    "        elif ('status: 1511' in status):\n",
    "            JP_Stor += 1\n",
    "        elif ('status 3910' in status) and ('updated' in status):\n",
    "            JP_Return += 1\n",
    "    \n",
    "    return (SG_Deliv, SG_Inv, SG_Stor, SG_Return), (JP_Deliv, JP_Inv, JP_Stor, JP_Return)"
   ]
  },
  {
   "cell_type": "code",
   "execution_count": 6,
   "metadata": {},
   "outputs": [
    {
     "data": {
      "text/plain": [
       "((29, 4, 0, 2), (1, 0, 0, 0))"
      ]
     },
     "execution_count": 6,
     "metadata": {},
     "output_type": "execute_result"
    }
   ],
   "source": [
    "Outbound_Counter(r'C:\\Users\\hakim\\Documents\\Novelship Work\\Logs\\Outbound 28-8.log')"
   ]
  },
  {
   "cell_type": "code",
   "execution_count": null,
   "metadata": {
    "scrolled": true
   },
   "outputs": [],
   "source": [
    "SG_Out_Orders = []\n",
    "SG_Start = '06:43:46'\n",
    "SG_End = '09:59:49'\n",
    "duration = Time_Converter(SG_End) - Time_Converter(SG_Start)\n",
    "\n",
    "for i in SG_Outbound:\n",
    "    timestamp = (((i.split(';'))[0]).split('T'))[1]\n",
    "    log_status = ((i.split(';'))[5])\n",
    "    if (Time_Converter(timestamp) > Time_Converter(SG_Start)) and (Time_Converter(timestamp) < Time_Converter(SG_End)):\n",
    "        if 'Airtable and Dashboard status update for' in i:\n",
    "            SG_Out = log_status[46:51]\n",
    "            SG_Out_Orders.append(SG_Out)"
   ]
  },
  {
   "cell_type": "code",
   "execution_count": null,
   "metadata": {
    "scrolled": false
   },
   "outputs": [],
   "source": [
    "count = 0\n",
    "SG_Login = []\n",
    "SG_Logout = []\n",
    "\n",
    "while count < len(text):\n",
    "    timestamp = (((text[count].split(';'))[0]).split('T'))[1]\n",
    "    status = (text[count].split(';')[4])\n",
    "    #print(status)\n",
    "    #print(timestamp)\n",
    "    if ('syarifah@novelship.com' in status) and ('Login SUCCESS' in status): \n",
    "        SG_Login.append(timestamp)\n",
    "        count += 1\n",
    "    elif ('syarifah@novelship.com' in status) and ('Logout SUCCESS' in status):\n",
    "        SG_Logout.append(timestamp)\n",
    "        count += 1\n",
    "    else:\n",
    "        count += 1"
   ]
  },
  {
   "cell_type": "code",
   "execution_count": null,
   "metadata": {},
   "outputs": [],
   "source": [
    "print(SG_Login)"
   ]
  },
  {
   "cell_type": "code",
   "execution_count": null,
   "metadata": {},
   "outputs": [],
   "source": [
    "print(SG_Logout)"
   ]
  },
  {
   "cell_type": "markdown",
   "metadata": {},
   "source": [
    "## Function returning 1st Scan and last update"
   ]
  },
  {
   "cell_type": "code",
   "execution_count": 148,
   "metadata": {},
   "outputs": [],
   "source": [
    "def Inbound_Timestamp(order_number, path):\n",
    "    f = open(path, 'r')\n",
    "    inbound = f.readlines()\n",
    "    f.close()\n",
    "    \n",
    "    for i in inbound:\n",
    "        timestamp = (((i.split(';'))[0]).split('T'))[1]\n",
    "        status = (i.split(';'))[5]\n",
    "        order_2 = order_number.replace('/','_')\n",
    "        if (order_number in status) and ('GET' in status) and ('SUCCESS' in status):\n",
    "            time1 = timestamp\n",
    "        elif (order_2 in status) and ('UPDATE' in status) and ('SUCCESS' in status):\n",
    "            time2 = timestamp \n",
    "            \n",
    "    return time1, time2"
   ]
  },
  {
   "cell_type": "code",
   "execution_count": null,
   "metadata": {},
   "outputs": [],
   "source": [
    "Inbound_Timestamp('22718/RN896ZOJ', r'C:\\Users\\hakim\\Documents\\Novelship Work\\Logs\\Inbound 14-8.txt')"
   ]
  },
  {
   "cell_type": "code",
   "execution_count": null,
   "metadata": {},
   "outputs": [],
   "source": [
    "f = open(r'C:\\Users\\hakim\\Documents\\Novelship Work\\Logs\\Auth 12-8.txt','r')\n",
    "text = f.readlines()\n",
    "f.close()"
   ]
  },
  {
   "cell_type": "code",
   "execution_count": null,
   "metadata": {},
   "outputs": [],
   "source": [
    "SG_Auth = []\n",
    "JP_Auth = []\n",
    "\n",
    "for i in text:\n",
    "    if ('syarifah' in i) or ('kenneth' in i):\n",
    "        SG_Auth.append(i)\n",
    "    elif ('cwong' in i) or ('ashleywong' in i):\n",
    "        JP_Auth.append(i)"
   ]
  },
  {
   "cell_type": "code",
   "execution_count": 116,
   "metadata": {},
   "outputs": [],
   "source": [
    "login = {'_____@novelship.com': [] , '______@novelship.com': []}\n",
    "logout = {'______@novelship.com': [] , '______@novelship.com': []}\n",
    "for i in SG_Auth:\n",
    "    timestamp = ((i.split(';'))[0]).split('T')[1]\n",
    "    user = (((i.split(';'))[4]).split('-')[0]).strip()\n",
    "    purpose = (((i.split(';'))[4]).split('-')[1]).strip()\n",
    "    if ('Login SUCCESS' in purpose):\n",
    "        login[user].append(timestamp)\n",
    "    elif ('Logout SUCCESS' in purpose): \n",
    "        logout[user].append(timestamp)"
   ]
  }
 ],
 "metadata": {
  "kernelspec": {
   "display_name": "Python 3",
   "language": "python",
   "name": "python3"
  },
  "language_info": {
   "codemirror_mode": {
    "name": "ipython",
    "version": 3
   },
   "file_extension": ".py",
   "mimetype": "text/x-python",
   "name": "python",
   "nbconvert_exporter": "python",
   "pygments_lexer": "ipython3",
   "version": "3.7.6"
  }
 },
 "nbformat": 4,
 "nbformat_minor": 4
}
